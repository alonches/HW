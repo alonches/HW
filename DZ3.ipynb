{
  "nbformat": 4,
  "nbformat_minor": 0,
  "metadata": {
    "colab": {
      "name": "Untitled1.ipynb",
      "provenance": [],
      "authorship_tag": "ABX9TyMyw8R4icaGeW65qqAJA5aB",
      "include_colab_link": true
    },
    "kernelspec": {
      "name": "python3",
      "display_name": "Python 3"
    },
    "language_info": {
      "name": "python"
    }
  },
  "cells": [
    {
      "cell_type": "markdown",
      "metadata": {
        "id": "view-in-github",
        "colab_type": "text"
      },
      "source": [
        "<a href=\"https://colab.research.google.com/github/alonches/HW/blob/main/DZ3.ipynb\" target=\"_parent\"><img src=\"https://colab.research.google.com/assets/colab-badge.svg\" alt=\"Open In Colab\"/></a>"
      ]
    },
    {
      "cell_type": "code",
      "source": [
        "url = 'https://www.vedomosti.ru/ecology/release/2021/09/01'\n",
        "import requests\n",
        "page = requests.get(url)\n",
        "page.encoding = 'utf8'\n",
        "from bs4 import BeautifulSoup\n",
        "soup = BeautifulSoup(page.text,'html.parser')\n",
        "link_start = 'https://www.vedomosti.ru'"
      ],
      "metadata": {
        "id": "WS4WxKCltzJB"
      },
      "execution_count": 45,
      "outputs": []
    },
    {
      "cell_type": "code",
      "source": [
        "# основная статья на странице\n",
        "main_article_url = soup.find_all('a', {'class':'card-background articles-cards-list__card cols-2 rows-3 --background'})\n",
        "# остальне статьи на странице\n",
        "other_articles_url = soup.find_all('a', {'class':'articles-cards-list__card card-article cols-1 rows-3 --article'})\n",
        "# собираем все в список\n",
        "links = []\n",
        "for link in main_article_url:\n",
        "  links.append(link_start + link.get('href'))\n",
        "for link in other_articles_url:\n",
        "  links.append(link_start + link.get('href'))\n"
      ],
      "metadata": {
        "id": "MjI8Wq_b5wPF"
      },
      "execution_count": 46,
      "outputs": []
    },
    {
      "cell_type": "code",
      "source": [
        "# заголовки\n",
        "def get_title(link):\n",
        "  page = requests.get(link)\n",
        "  page.encoding = 'utf8'\n",
        "  soup = BeautifulSoup(page.text,'html.parser')\n",
        "  title = soup.find_all('h1', {'class':'article-headline__title'})[0].text\n",
        "  title = title.replace('\\n', '').strip()\n",
        "  return title\n",
        "# подзаголовки\n",
        "def get_subtitle(link):\n",
        "  page = requests.get(link)\n",
        "  page.encoding = 'utf8'\n",
        "  soup = BeautifulSoup(page.text,'html.parser')\n",
        "  subtitle = soup.find_all('em', {'class':'article-headline__subtitle'})[0].text\n",
        "  if '\\xa0' in subtitle:\n",
        "    subtitle = subtitle.replace('\\xa0', '')\n",
        "  return subtitle\n"
      ],
      "metadata": {
        "id": "AdQjQNcq5105"
      },
      "execution_count": 47,
      "outputs": []
    },
    {
      "cell_type": "code",
      "source": [
        "# дата и время\n",
        "def get_date_time(link):\n",
        "  page = requests.get(link)\n",
        "  page.encoding = 'utf8'\n",
        "  soup = BeautifulSoup(page.text,'html.parser')\n",
        "  date_time = soup.find_all('time', {'class':'article-meta__date'})[0].text\n",
        "  date_time = date_time.replace('/', '').strip()\n",
        "  return date_time\n"
      ],
      "metadata": {
        "id": "Re9pwyGY5-Un"
      },
      "execution_count": 48,
      "outputs": []
    },
    {
      "cell_type": "code",
      "source": [
        "# сбор словаря\n",
        "dict = {}\n",
        "for link in links:\n",
        "  page = requests.get(link)\n",
        "  page.encoding = 'utf8'\n",
        "  soup = BeautifulSoup(page.text,'html.parser')\n",
        "  dict[link] = [get_date_time(link), get_title(link), get_subtitle(link)]\n",
        "  import pandas as pd  \n",
        "articles_pd = pd.DataFrame.from_dict(dict, orient='index', columns=[\"Дата\", \"Заголовок\", \"Текст\"])\n",
        "# сохранение \n",
        "articles_pd.to_csv('vedomosti1_pd.csv')"
      ],
      "metadata": {
        "id": "rX12XJDg6Cmy"
      },
      "execution_count": 49,
      "outputs": []
    }
  ]
}