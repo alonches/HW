{
  "nbformat": 4,
  "nbformat_minor": 0,
  "metadata": {
    "colab": {
      "name": "HomeWork_1.ipynb",
      "provenance": [],
      "authorship_tag": "ABX9TyP+AzFG23JxTJaKa9sAso94",
      "include_colab_link": true
    },
    "kernelspec": {
      "name": "python3",
      "display_name": "Python 3"
    },
    "language_info": {
      "name": "python"
    }
  },
  "cells": [
    {
      "cell_type": "markdown",
      "metadata": {
        "id": "view-in-github",
        "colab_type": "text"
      },
      "source": [
        "<a href=\"https://colab.research.google.com/github/alonches/HW/blob/main/HomeWork_1.ipynb\" target=\"_parent\"><img src=\"https://colab.research.google.com/assets/colab-badge.svg\" alt=\"Open In Colab\"/></a>"
      ]
    },
    {
      "cell_type": "markdown",
      "source": [
        "Задача 1"
      ],
      "metadata": {
        "id": "lIWnVbdrw8en"
      }
    },
    {
      "cell_type": "code",
      "source": [
        "a = float(input('по шкале от 0 до 10, напишите, насколько Вы устали: '))\n",
        "if a < 0.7:\n",
        "    print('Кажется, Вы совсем не устали')\n",
        "elif 0.7 <= a <= 4.8:\n",
        "    print('Вы немного устали')\n",
        "elif 4.9 <= a <= 7.5:\n",
        "    print('Вы конкретно устали!')\n",
        "elif 7.6 <= a <= 10:\n",
        "    print('Вы чертовски устали!')\n",
        "elif 10.1 <= a <= 20:\n",
        "    print('Вам стоит полежать и поничегонеделать несколько дней')\n",
        "elif a > 25:\n",
        "    print('Вы приближаетесь к выгоранию')"
      ],
      "metadata": {
        "colab": {
          "base_uri": "https://localhost:8080/"
        },
        "id": "t18eHmTtxA1E",
        "outputId": "fa5b46e6-29ef-4bdb-f385-98b5e521a514"
      },
      "execution_count": 1,
      "outputs": [
        {
          "output_type": "stream",
          "name": "stdout",
          "text": [
            "по шкале от 0 до 10, напишите, насколько Вы устали: 26\n",
            "Вы приближаетесь к выгоранию\n"
          ]
        }
      ]
    },
    {
      "cell_type": "markdown",
      "source": [
        "Задача 3"
      ],
      "metadata": {
        "id": "cgqGomVlxH5z"
      }
    },
    {
      "cell_type": "code",
      "source": [
        "postcards = {\n",
        "    \"Maria\":\"London\",\n",
        "    \"Lorenzo\":\"Milan\",\n",
        "    \"Oleg\":\"Canberra\",\n",
        "    \"Hans\":\"Calgary\",\n",
        "    \"Mark\":\"Milan\",\n",
        "    \"Alex\":\"Krakow\",\n",
        "    \"Julia\":\"Murmansk\"\n",
        "}\n",
        "new_cards = {\"Petra\":\"Paris\",\"Ivan\":\"Moscow\"}\n",
        "postcards.update(new_cards)\n",
        "postcards[\"Oleg\"] = \"Sydney\"\n",
        "\n",
        "print(len(postcards.values()), \"unique cities\\n\",postcards.values())"
      ],
      "metadata": {
        "colab": {
          "base_uri": "https://localhost:8080/"
        },
        "id": "t-X40DcsxJR5",
        "outputId": "04916623-6e6f-406c-efc0-cbffbf3976a0"
      },
      "execution_count": 2,
      "outputs": [
        {
          "output_type": "stream",
          "name": "stdout",
          "text": [
            "9 unique cities\n",
            " dict_values(['London', 'Milan', 'Sydney', 'Calgary', 'Milan', 'Krakow', 'Murmansk', 'Paris', 'Moscow'])\n"
          ]
        }
      ]
    },
    {
      "cell_type": "markdown",
      "source": [
        "Задача 2"
      ],
      "metadata": {
        "id": "uwakBu7LxPIW"
      }
    },
    {
      "cell_type": "code",
      "source": [
        "import random\n",
        "\n",
        "cocktails = [\n",
        "    [\"мартини\",\"грейпфрутовый сок\",\"жасмин\",\"тоник\",\"лосось\"],\n",
        "    [\"клубника\",\"какао\",\"мята\",\"марсала\"],\n",
        "    [\"водка\",\"томатный сок\",\"лимонный сок\",\"вустерширский соус\",\"черный перец\",\"сельдерей\",\"лосось\"],\n",
        "    [\"джин\",\"вермут\",\"ликер мараскино\",\"апельсины\",\"коктейльная вишня\",\"лосось\"],\n",
        "    [\"ром\",\"авокадо\",\"сахарный сироп\",\"сливки\",\"лимонный сок\",\"лед\"],\n",
        "    [\"красный вермут\",\"тоник\",\"апельсины\",\"лосось\"],\n",
        "    [\"только чай\"]\n",
        "        ]\n",
        "a = random.choice(cocktails)\n",
        "if 'лосось' in a:\n",
        "    a.remove('лосось')\n",
        "    print('Сегодня в вашем коктейле будет:', a)\n",
        "else:\n",
        "    print('Сегодня в вашем коктейле будет:', a)\n"
      ],
      "metadata": {
        "colab": {
          "base_uri": "https://localhost:8080/"
        },
        "id": "m9DmAlNMxW20",
        "outputId": "5bc0061c-bb24-4682-9d26-befc22605730"
      },
      "execution_count": 3,
      "outputs": [
        {
          "output_type": "stream",
          "name": "stdout",
          "text": [
            "Сегодня в вашем коктейле будет: ['водка', 'томатный сок', 'лимонный сок', 'вустерширский соус', 'черный перец', 'сельдерей']\n"
          ]
        }
      ]
    }
  ]
}